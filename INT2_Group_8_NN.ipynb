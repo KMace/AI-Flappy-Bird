{
  "nbformat": 4,
  "nbformat_minor": 0,
  "metadata": {
    "colab": {
      "name": "INT2 Group 8 NN.ipynb",
      "provenance": [],
      "include_colab_link": true
    },
    "kernelspec": {
      "name": "python3",
      "display_name": "Python 3"
    },
    "language_info": {
      "name": "python"
    }
  },
  "cells": [
    {
      "cell_type": "markdown",
      "metadata": {
        "id": "view-in-github",
        "colab_type": "text"
      },
      "source": [
        "<a href=\"https://colab.research.google.com/github/KMace/AI-Flappy-Bird/blob/main/INT2_Group_8_NN.ipynb\" target=\"_parent\"><img src=\"https://colab.research.google.com/assets/colab-badge.svg\" alt=\"Open In Colab\"/></a>"
      ]
    },
    {
      "cell_type": "code",
      "execution_count": null,
      "metadata": {
        "id": "5xDiCg81Yz4t"
      },
      "outputs": [],
      "source": [
        "import tensorflow as tf\n",
        "import matplotlib.pyplot as plt\n",
        "import numpy as np\n",
        "from tensorflow import keras\n",
        "\n",
        "# Importing the MNIST hand-written digit data set \n",
        "(trainImages, trainLabels), (testImages, testLabels) = keras.datasets.mnist.load_data(path = \"mnist.npz\")\n",
        "\n",
        "# Dividing by 255.0 in order to change pixel values from 0 - 255 to 0 - 1 as it ...\n",
        "# makes the data easier to work with\n",
        "trainImages = trainImages / 255.0\n",
        "testImages = testImages / 255.0\n",
        "\n",
        "# Creating the model\n",
        "model = keras.Sequential([\n",
        "    keras.layers.Flatten(input_shape = (28,28)),\n",
        "    keras.layers.Dense(156, activation = \"relu\"),\n",
        "    keras.layers.Dense(10, activation = \"softmax\")\n",
        "])\n",
        "\n",
        "model.compile(optimizer = \"adam\", loss = \"sparse_categorical_crossentropy\", metrics = [\"accuracy\"])\n",
        "\n",
        "# Training the model\n",
        "model.fit(trainImages, trainLabels, epochs = 5)\n",
        "\n",
        "# Testing the accuracy of the model\n",
        "print()\n",
        "testLoss, testAcc = model.evaluate(testImages, testLabels)\n",
        "print(\"Overall Model Accuracy:\", testAcc)\n",
        "\n",
        "# Saving the model\n",
        "model.save(\"digitNeuralNetwork.h5\")\n",
        "\n",
        "# Using the model to predict the entire set and output some of those predictions\n",
        "predictions = model.predict(testImages)\n",
        "\n",
        "for i in range(5):\n",
        "    prediction = np.argmax(predictions[i])\n",
        "\n",
        "    if str(prediction) == str(testLabels[i]):\n",
        "        print(\"Correct prediction!\")\n",
        "    else:\n",
        "        print(\"Incorrect prediction\")\n",
        "\n",
        "    plt.imshow(testImages[i], cmap = plt.cm.binary)\n",
        "    plt.xlabel(\"Actual: \" + str(testLabels[i]), fontsize = \"large\")\n",
        "    plt.title(\"Prediction: \" + str(prediction) + \" with a confidence of: \" + str(round(max(predictions[i]) * 100, 4)) + \"%\")\n",
        "    plt.show()\n",
        "\n",
        "\n",
        "# To open the saved model:\n",
        "### model = keras.models.load_model(\"digitNeuralNetwork.h5\")"
      ]
    }
  ]
}